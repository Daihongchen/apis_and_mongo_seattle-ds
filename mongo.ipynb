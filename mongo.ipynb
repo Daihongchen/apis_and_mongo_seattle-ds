{
 "cells": [
  {
   "cell_type": "markdown",
   "metadata": {},
   "source": [
    "# On MongoDB\n",
    "\n",
    "First, install mongo!\n",
    "\n",
    "In the terminal, run:\n",
    "\n",
    "```brew install mongodb```<br/>\n",
    "\n",
    "For more on installation, see [here](https://treehouse.github.io/installation-guides/mac/mongo-mac.html)."
   ]
  },
  {
   "cell_type": "markdown",
   "metadata": {},
   "source": [
    "## Mongo in the Terminal\n",
    "\n",
    "Let's try a few simple commands.\n",
    "\n",
    "1. Run `mongo` to launch the program!\n",
    "2. Now run `help` to see some mongo hints.\n",
    "3. Let's run `show dbs` to show the databases to which we're currently connected.\n",
    "4. To use or create a particular database, simply type `use` followed by the name of the database.\n",
    "5. Once we're accessing a particular database, we can list its collections by running `show collections`.\n",
    "\n",
    "But what's a collection? What are we doing with this Mongo thing? Let's talk about some concepts!"
   ]
  },
  {
   "cell_type": "markdown",
   "metadata": {},
   "source": [
    "## What Is Mongo?\n",
    "\n",
    "Mongo is one of the leading tools for working with *non-relational* databases.\n",
    "\n",
    "With Mongo we should at least be able to Create, Read, Update, Delete: the four basic functions of persistent storage.\n",
    "\n",
    "[This site](https://www.tutorialspoint.com/mongodb/index.htm) is an excellent resource on Mongo. Let's check it out!\n",
    "\n",
    "- Overview: Terminology: SQL vs. NoSQL (Not only SQL)\n",
    "- Advantages: NoSQL\n",
    "- Data Modeling: Example\n",
    "- Queries: Equivalents of SQL 'WHERE', 'AND', and 'OR'\n",
    "- Aggregation: Equivalents of SQL 'GROUPBY'"
   ]
  },
  {
   "cell_type": "code",
   "execution_count": 1,
   "metadata": {},
   "outputs": [],
   "source": [
    "import json\n",
    "import requests\n",
    "import pandas as pd\n",
    "\n",
    "# Load secrets from credentials.json\n",
    "url = 'https://api.foursquare.com/v2/venues/explore'\n",
    "with open('/Users/gdamico/flatiron/foursquare_seattle-ds-career-040119/.secrets/credentials.json') as f:\n",
    "    params = json.load(f)"
   ]
  },
  {
   "cell_type": "code",
   "execution_count": 2,
   "metadata": {},
   "outputs": [],
   "source": [
    "params['v'] = '20190604'\n",
    "params['ll'] = '47.608, -122.336',\n",
    "params['query'] = 'chinese',\n",
    "params['intent'] = 'browse',\n",
    "params['radius'] = 100000,\n",
    "params['limit'] = 100"
   ]
  },
  {
   "cell_type": "code",
   "execution_count": 3,
   "metadata": {},
   "outputs": [],
   "source": [
    "response = requests.get(url=url, params=params)\n",
    "data = json.loads(response.text)"
   ]
  },
  {
   "cell_type": "code",
   "execution_count": 8,
   "metadata": {},
   "outputs": [],
   "source": [
    "data"
   ]
  },
  {
   "cell_type": "code",
   "execution_count": 9,
   "metadata": {},
   "outputs": [],
   "source": [
    "data.keys()"
   ]
  },
  {
   "cell_type": "code",
   "execution_count": 10,
   "metadata": {},
   "outputs": [],
   "source": [
    "data['response'].keys()"
   ]
  },
  {
   "cell_type": "code",
   "execution_count": 11,
   "metadata": {},
   "outputs": [],
   "source": [
    "data['meta']"
   ]
  },
  {
   "cell_type": "code",
   "execution_count": 12,
   "metadata": {},
   "outputs": [],
   "source": [
    "type(data['response'])"
   ]
  },
  {
   "cell_type": "code",
   "execution_count": 13,
   "metadata": {
    "scrolled": true
   },
   "outputs": [],
   "source": [
    "data['response']['groups'][0]['items'][0]['venue']"
   ]
  },
  {
   "cell_type": "code",
   "execution_count": 4,
   "metadata": {},
   "outputs": [],
   "source": [
    "info = []\n",
    "\n",
    "for store in data['response']['groups'][0]['items']:\n",
    "    info.append(store['venue'])\n",
    "\n",
    "foursq_df = pd.DataFrame(info)"
   ]
  },
  {
   "cell_type": "code",
   "execution_count": 14,
   "metadata": {},
   "outputs": [],
   "source": [
    "foursq_df.head()"
   ]
  },
  {
   "cell_type": "code",
   "execution_count": 15,
   "metadata": {},
   "outputs": [],
   "source": [
    "type(foursq_df['location'][0])"
   ]
  },
  {
   "cell_type": "code",
   "execution_count": 16,
   "metadata": {},
   "outputs": [],
   "source": [
    "foursq_df['location'][0]['lat']"
   ]
  },
  {
   "cell_type": "markdown",
   "metadata": {},
   "source": [
    "## Putting in Mongo"
   ]
  },
  {
   "cell_type": "markdown",
   "metadata": {},
   "source": [
    "We could do all we need in the terminal, but we can also make use of pymongo, which is a Python package that interfaces with mongo databases!"
   ]
  },
  {
   "cell_type": "code",
   "execution_count": 17,
   "metadata": {},
   "outputs": [],
   "source": [
    "import pymongo\n",
    "\n",
    "client = pymongo.MongoClient('mongodb://127.0.0.1:27017')\n",
    "\n",
    "client.list_database_names()"
   ]
  },
  {
   "cell_type": "code",
   "execution_count": 16,
   "metadata": {},
   "outputs": [],
   "source": [
    "db = client['foursquare']"
   ]
  },
  {
   "cell_type": "code",
   "execution_count": 18,
   "metadata": {},
   "outputs": [],
   "source": [
    "db.list_collection_names()"
   ]
  },
  {
   "cell_type": "code",
   "execution_count": 18,
   "metadata": {},
   "outputs": [],
   "source": [
    "db.create_collection('foursquare_chinese')"
   ]
  },
  {
   "cell_type": "code",
   "execution_count": 19,
   "metadata": {},
   "outputs": [],
   "source": [
    "db.list_collection_names()"
   ]
  },
  {
   "cell_type": "code",
   "execution_count": 20,
   "metadata": {},
   "outputs": [],
   "source": [
    "db['foursquare_chinese'].inserted_ids"
   ]
  },
  {
   "cell_type": "code",
   "execution_count": 21,
   "metadata": {},
   "outputs": [],
   "source": [
    "chinese = db['foursquare_chinese']"
   ]
  },
  {
   "cell_type": "code",
   "execution_count": 21,
   "metadata": {},
   "outputs": [],
   "source": [
    "chinese.find({})[0]"
   ]
  },
  {
   "cell_type": "code",
   "execution_count": 22,
   "metadata": {},
   "outputs": [],
   "source": [
    "chinese.find({'name': 'King Noodle'})[0]"
   ]
  },
  {
   "cell_type": "markdown",
   "metadata": {},
   "source": [
    "### Updating"
   ]
  },
  {
   "cell_type": "code",
   "execution_count": null,
   "metadata": {},
   "outputs": [],
   "source": [
    "liao = {'name': 'Chef Liao'}"
   ]
  },
  {
   "cell_type": "code",
   "execution_count": null,
   "metadata": {},
   "outputs": [],
   "source": [
    "chinese.update_one(liao, {'$set': {'rating': 'five stars'}})"
   ]
  },
  {
   "cell_type": "code",
   "execution_count": 26,
   "metadata": {},
   "outputs": [],
   "source": [
    "chinese.find({'name': 'Chef Liao'})[0]"
   ]
  },
  {
   "cell_type": "markdown",
   "metadata": {},
   "source": [
    "### Filtering\n",
    "\n",
    "We can specify either the keys/values we want displayed (with '1') or the keys/values we do NOT want displayed (with '0')."
   ]
  },
  {
   "cell_type": "code",
   "execution_count": 23,
   "metadata": {},
   "outputs": [],
   "source": [
    "for eatery in chinese.find({}, {'name': 1, 'location': 1}):\n",
    "    print(eatery)"
   ]
  },
  {
   "cell_type": "markdown",
   "metadata": {},
   "source": [
    "The '\\_id' key is the only one whose value (0 or 1) can be different from the rest."
   ]
  },
  {
   "cell_type": "code",
   "execution_count": 24,
   "metadata": {},
   "outputs": [],
   "source": [
    "for eatery in chinese.find({}, {'_id': 0, 'name': 1, 'location': 1}):\n",
    "    print(eatery)"
   ]
  },
  {
   "cell_type": "markdown",
   "metadata": {},
   "source": [
    "### Sorting"
   ]
  },
  {
   "cell_type": "code",
   "execution_count": 25,
   "metadata": {},
   "outputs": [],
   "source": [
    "chinese.find({}, {'_id': 0, 'name': 1, 'location': 1}).sort('name')[0]"
   ]
  },
  {
   "cell_type": "markdown",
   "metadata": {},
   "source": [
    "### Aggregating"
   ]
  },
  {
   "cell_type": "markdown",
   "metadata": {},
   "source": [
    "## New Foursquare Search! New Mongo Collection!\n",
    "\n",
    "Adjust the parameters of the API call and collect more data. Then add it as a collection to your Mongo db and practice mongo commands like:\n",
    "\n",
    "`.find()`\n",
    "`.delete_one()`\n",
    "`.update()`\n",
    "`.update_many()`\n",
    "`.insert_one()`\n",
    "`.insert_many()`\n",
    "\n",
    "For example, try adding a new document to your collection with the following information:\n",
    "\n",
    "{'name': \\[yourname\\], 'activitiy': 'was here', 'school': 'flatiron'}"
   ]
  },
  {
   "cell_type": "code",
   "execution_count": null,
   "metadata": {},
   "outputs": [],
   "source": []
  }
 ],
 "metadata": {
  "kernelspec": {
   "display_name": "Python 3",
   "language": "python",
   "name": "python3"
  },
  "language_info": {
   "codemirror_mode": {
    "name": "ipython",
    "version": 3
   },
   "file_extension": ".py",
   "mimetype": "text/x-python",
   "name": "python",
   "nbconvert_exporter": "python",
   "pygments_lexer": "ipython3",
   "version": "3.7.2"
  }
 },
 "nbformat": 4,
 "nbformat_minor": 2
}
